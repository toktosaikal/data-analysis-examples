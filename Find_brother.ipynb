{
 "cells": [
  {
   "cell_type": "code",
   "execution_count": 1,
   "metadata": {},
   "outputs": [],
   "source": [
    "import pandas as pd\n",
    "import numpy as np\n",
    "import re"
   ]
  },
  {
   "cell_type": "code",
   "execution_count": 2,
   "metadata": {},
   "outputs": [],
   "source": [
    "df = pd.read_csv('data/Minjust2018.csv', \n",
    "                 header=None, \n",
    "                 usecols=[4, 27, 28, 33])\n",
    "df.fillna('', inplace=True)\n",
    "df.rename(columns={4: 'name', \n",
    "                   27: 'director', \n",
    "                   28: 'activity', \n",
    "                   33: 'founders'},\n",
    "              inplace = True)"
   ]
  },
  {
   "cell_type": "code",
   "execution_count": 11,
   "metadata": {},
   "outputs": [],
   "source": [
    "def child_regex(surname, patronymic):\n",
    "    pattern = re.compile(surname +\n",
    "                         r'а?\\s+\\w+\\s+' + # First name\n",
    "                         remove_vowels(patronymic) + # Patronymic\n",
    "                         r'|' + \n",
    "                         r'\\w+\\s+' + # First name\n",
    "                         remove_vowels(patronymic) + r'\\w+\\s+' + # Patronymic\n",
    "                         surname,\n",
    "                         re.IGNORECASE)\n",
    "    return pattern\n",
    "\n",
    "def remove_vowels(patronymic):\n",
    "    while True:\n",
    "        if patronymic[-1] not in ['а', 'о', 'и', 'е', 'ё', 'э', 'ы', 'у', 'ю', 'я', 'й']:\n",
    "            break\n",
    "        else:\n",
    "            patronymic = patronymic[: -1]\n",
    "    return patronymic"
   ]
  },
  {
   "cell_type": "code",
   "execution_count": 12,
   "metadata": {},
   "outputs": [
    {
     "data": {
      "text/html": [
       "<div>\n",
       "<style scoped>\n",
       "    .dataframe tbody tr th:only-of-type {\n",
       "        vertical-align: middle;\n",
       "    }\n",
       "\n",
       "    .dataframe tbody tr th {\n",
       "        vertical-align: top;\n",
       "    }\n",
       "\n",
       "    .dataframe thead th {\n",
       "        text-align: right;\n",
       "    }\n",
       "</style>\n",
       "<table border=\"1\" class=\"dataframe\">\n",
       "  <thead>\n",
       "    <tr style=\"text-align: right;\">\n",
       "      <th></th>\n",
       "      <th>name</th>\n",
       "      <th>director</th>\n",
       "      <th>activity</th>\n",
       "      <th>founders</th>\n",
       "    </tr>\n",
       "  </thead>\n",
       "  <tbody>\n",
       "    <tr>\n",
       "      <th>69975</th>\n",
       "      <td>ОсОО \"ЭКСИМКО\" (ИУ-Казахстан)</td>\n",
       "      <td>Суракматов Азат Эмильбекович</td>\n",
       "      <td></td>\n",
       "      <td>Кулова Салтанат Темирбековна, Нарымбекова Инди...</td>\n",
       "    </tr>\n",
       "    <tr>\n",
       "      <th>106538</th>\n",
       "      <td>Общество с ограниченной ответственностью \"New ...</td>\n",
       "      <td>Турганов Эркинбек Токтобекович</td>\n",
       "      <td>Оптовая неспециализированная торговля</td>\n",
       "      <td>Суракматов Азат Эмильбекович, Тургунов Эркинбе...</td>\n",
       "    </tr>\n",
       "  </tbody>\n",
       "</table>\n",
       "</div>"
      ],
      "text/plain": [
       "                                                     name  \\\n",
       "69975                       ОсОО \"ЭКСИМКО\" (ИУ-Казахстан)   \n",
       "106538  Общество с ограниченной ответственностью \"New ...   \n",
       "\n",
       "                              director                               activity  \\\n",
       "69975     Суракматов Азат Эмильбекович                                          \n",
       "106538  Турганов Эркинбек Токтобекович  Оптовая неспециализированная торговля   \n",
       "\n",
       "                                                 founders  \n",
       "69975   Кулова Салтанат Темирбековна, Нарымбекова Инди...  \n",
       "106538  Суракматов Азат Эмильбекович, Тургунов Эркинбе...  "
      ]
     },
     "execution_count": 12,
     "metadata": {},
     "output_type": "execute_result"
    }
   ],
   "source": [
    "df.loc[df['founders'].str.contains(child_regex('Суракматов', 'Эмильбекович'))]"
   ]
  },
  {
   "cell_type": "code",
   "execution_count": 10,
   "metadata": {},
   "outputs": [
    {
     "data": {
      "text/plain": [
       "'Кулова Салтанат Темирбековна, Нарымбекова Индира Сериковна, Суракматов Азат Эмильбекович'"
      ]
     },
     "execution_count": 10,
     "metadata": {},
     "output_type": "execute_result"
    }
   ],
   "source": [
    "df['founders'][69975]"
   ]
  },
  {
   "cell_type": "code",
   "execution_count": null,
   "metadata": {},
   "outputs": [],
   "source": []
  }
 ],
 "metadata": {
  "kernelspec": {
   "display_name": "Python 3",
   "language": "python",
   "name": "python3"
  },
  "language_info": {
   "codemirror_mode": {
    "name": "ipython",
    "version": 3
   },
   "file_extension": ".py",
   "mimetype": "text/x-python",
   "name": "python",
   "nbconvert_exporter": "python",
   "pygments_lexer": "ipython3",
   "version": "3.7.1"
  }
 },
 "nbformat": 4,
 "nbformat_minor": 2
}
