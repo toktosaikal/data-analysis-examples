{
 "cells": [
  {
   "cell_type": "code",
   "execution_count": 1,
   "metadata": {},
   "outputs": [],
   "source": [
    "import pandas as pd\n",
    "import numpy as np\n",
    "import re"
   ]
  },
  {
   "cell_type": "code",
   "execution_count": 2,
   "metadata": {},
   "outputs": [],
   "source": [
    "df = pd.read_csv('data/Minjust2018.csv', \n",
    "                 header=None, \n",
    "                 usecols=[4, 27, 28, 33])\n",
    "df.fillna('', inplace=True)\n",
    "df.rename(columns={4: 'name', \n",
    "                   27: 'director', \n",
    "                   28: 'activity', \n",
    "                   33: 'founders'},\n",
    "              inplace = True)"
   ]
  },
  {
   "cell_type": "code",
   "execution_count": 3,
   "metadata": {},
   "outputs": [],
   "source": [
    "def child_regex(surname, name):\n",
    "    pattern = re.compile(surname +\n",
    "                         r'а?\\s+\\w+\\s+' + # First name\n",
    "                         remove_vowels(name) + # Patronymic\n",
    "                         r'|' + \n",
    "                         r'\\w+\\s+' + # First name\n",
    "                         remove_vowels(name) + r'\\w+\\s+' + # Patronymic\n",
    "                         surname,\n",
    "                         re.IGNORECASE)\n",
    "    return pattern\n",
    "\n",
    "def remove_vowels(name):\n",
    "    while True:\n",
    "        if name[-1] not in ['а', 'о', 'и', 'е', 'ё', 'э', 'ы', 'у', 'ю', 'я', 'й']:\n",
    "            break\n",
    "        else:\n",
    "            name = name[: -1]\n",
    "    return name"
   ]
  },
  {
   "cell_type": "code",
   "execution_count": 10,
   "metadata": {},
   "outputs": [
    {
     "data": {
      "text/html": [
       "<div>\n",
       "<style scoped>\n",
       "    .dataframe tbody tr th:only-of-type {\n",
       "        vertical-align: middle;\n",
       "    }\n",
       "\n",
       "    .dataframe tbody tr th {\n",
       "        vertical-align: top;\n",
       "    }\n",
       "\n",
       "    .dataframe thead th {\n",
       "        text-align: right;\n",
       "    }\n",
       "</style>\n",
       "<table border=\"1\" class=\"dataframe\">\n",
       "  <thead>\n",
       "    <tr style=\"text-align: right;\">\n",
       "      <th></th>\n",
       "      <th>name</th>\n",
       "      <th>director</th>\n",
       "      <th>activity</th>\n",
       "      <th>founders</th>\n",
       "    </tr>\n",
       "  </thead>\n",
       "  <tbody>\n",
       "    <tr>\n",
       "      <th>78963</th>\n",
       "      <td>Общество с ограниченной ответственностью \"Стол...</td>\n",
       "      <td>Джумалиев Джайлообек</td>\n",
       "      <td>Строительство жилых и нежилых зданий</td>\n",
       "      <td>Суракматов Айдар Азизович, Суракматова Гульбар...</td>\n",
       "    </tr>\n",
       "    <tr>\n",
       "      <th>79928</th>\n",
       "      <td>Общество с ограниченной ответственностью \"Аген...</td>\n",
       "      <td>Омурзаков Анвар Раимбекович</td>\n",
       "      <td>Деятельность агентств по операциям с недвижимы...</td>\n",
       "      <td>Суракматова Гульбара, Суракматов Айдар Азизович</td>\n",
       "    </tr>\n",
       "    <tr>\n",
       "      <th>95188</th>\n",
       "      <td>Общество с ограниченной ответственностью \"Стро...</td>\n",
       "      <td>Тынымсеитова Нуржан Мырзагуловна</td>\n",
       "      <td>Строительство жилых и нежилых зданий</td>\n",
       "      <td>Суракматов Айдар Азизович, Суракматова Гульбар...</td>\n",
       "    </tr>\n",
       "  </tbody>\n",
       "</table>\n",
       "</div>"
      ],
      "text/plain": [
       "                                                    name  \\\n",
       "78963  Общество с ограниченной ответственностью \"Стол...   \n",
       "79928  Общество с ограниченной ответственностью \"Аген...   \n",
       "95188  Общество с ограниченной ответственностью \"Стро...   \n",
       "\n",
       "                               director  \\\n",
       "78963              Джумалиев Джайлообек   \n",
       "79928       Омурзаков Анвар Раимбекович   \n",
       "95188  Тынымсеитова Нуржан Мырзагуловна   \n",
       "\n",
       "                                                activity  \\\n",
       "78963               Строительство жилых и нежилых зданий   \n",
       "79928  Деятельность агентств по операциям с недвижимы...   \n",
       "95188               Строительство жилых и нежилых зданий   \n",
       "\n",
       "                                                founders  \n",
       "78963  Суракматов Айдар Азизович, Суракматова Гульбар...  \n",
       "79928    Суракматова Гульбара, Суракматов Айдар Азизович  \n",
       "95188  Суракматов Айдар Азизович, Суракматова Гульбар...  "
      ]
     },
     "execution_count": 10,
     "metadata": {},
     "output_type": "execute_result"
    }
   ],
   "source": [
    "df.loc[df['founders'].str.contains(child_regex('Суракматов', 'Азиз'))]"
   ]
  },
  {
   "cell_type": "code",
   "execution_count": 12,
   "metadata": {},
   "outputs": [
    {
     "data": {
      "text/plain": [
       "'Общество с ограниченной ответственностью \"Столица Строй\"'"
      ]
     },
     "execution_count": 12,
     "metadata": {},
     "output_type": "execute_result"
    }
   ],
   "source": [
    "df.loc[78963, 'name']"
   ]
  },
  {
   "cell_type": "code",
   "execution_count": null,
   "metadata": {},
   "outputs": [],
   "source": []
  }
 ],
 "metadata": {
  "kernelspec": {
   "display_name": "Python 3",
   "language": "python",
   "name": "python3"
  },
  "language_info": {
   "codemirror_mode": {
    "name": "ipython",
    "version": 3
   },
   "file_extension": ".py",
   "mimetype": "text/x-python",
   "name": "python",
   "nbconvert_exporter": "python",
   "pygments_lexer": "ipython3",
   "version": "3.7.1"
  }
 },
 "nbformat": 4,
 "nbformat_minor": 2
}
